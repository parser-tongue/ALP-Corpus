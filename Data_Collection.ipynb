{
 "cells": [
  {
   "attachments": {},
   "cell_type": "markdown",
   "metadata": {},
   "source": [
    "# Data Collection Pipeline\n",
    "    \n",
    "\n",
    "## 1. Spotify API \n",
    "\n",
    "The motivation for using the Spotify API is that their large database of folk songs often includes matched lyrics. \n",
    "\n",
    "\n",
    "**Note**: The Spotify API authorisation requires client credentials associated with a unique Spotify user. These must be manually set for the code to run.\n"
   ]
  },
  {
   "cell_type": "code",
   "execution_count": 1,
   "metadata": {},
   "outputs": [],
   "source": [
    "import os\n",
    "client_id = os.getenv('SPOTIFY_CLIENT_ID')\n",
    "client_secret = os.getenv('SPOTIFY_CLIENT_SECRET')\n"
   ]
  },
  {
   "attachments": {},
   "cell_type": "markdown",
   "metadata": {},
   "source": [
    "Each API call requires an *access token*, which expires after a certain amount of time has passed. The following code can be re-run once it has expired to generate a new access token. \n",
    "\n",
    "### Get Access Token:"
   ]
  },
  {
   "cell_type": "code",
   "execution_count": 2,
   "metadata": {},
   "outputs": [
    {
     "name": "stdout",
     "output_type": "stream",
     "text": [
      "BQDkHV-jcrGqak-KqLYBuOK6EBDfabbgiDr61lRxrGlIDTdehsqfSUx9o5R5geJWp1ZZrnR4nIDglHUZlqmTQcxoMZjuF4WHg8OSXgHdBjk-vEPInbA\n"
     ]
    }
   ],
   "source": [
    "import requests\n",
    "\n",
    "data = {\n",
    "    'grant_type': 'client_credentials',\n",
    "    'client_id': client_id,\n",
    "    'client_secret': client_secret,\n",
    "}\n",
    "\n",
    "response = requests.post('https://accounts.spotify.com/api/token', data=data)\n",
    "response = response.json()\n",
    "access_token = response['access_token']\n",
    "print(access_token)\n"
   ]
  },
  {
   "attachments": {},
   "cell_type": "markdown",
   "metadata": {},
   "source": [
    "In order to find Swiss folk songs that meet our criteria, they should appear in multiple playlists when using   a search query such as \"schweizer volkslieder\". \n",
    "\n",
    "We will therefore find playlists matching this or similar queries and find the unique song IDs and names of the songs in these playlists. The song IDs with be used by a module found online called Syrics (https://github.com/akashrchandran/syrics) to fetch the lyrics. \n",
    "\n",
    "### Get playlist IDs:"
   ]
  },
  {
   "cell_type": "code",
   "execution_count": 5,
   "metadata": {},
   "outputs": [],
   "source": [
    "\n",
    "authorization = 'Bearer ' + access_token\n",
    "headers = {\n",
    "    'Accept': 'application/json',\n",
    "    'Content-Type': 'application/json',\n",
    "    'Authorization': authorization,\n",
    "}\n",
    "\n",
    "# TO-DO: The following code a list of potential different query strings 'q' for different playlists\n",
    "#queries = ['schweizer volksmusik', 'schweizer volkslieder', 'schwiizer volkslieder','mundart volkslieder'] etc\n",
    "queries = ['schweizer volksmusik', 'schweizer volkslieder', 'schwiizer volkslieder','mundart volkslieder']\n",
    "all_playlist_ids = set()\n",
    "for q in queries:\n",
    "    params = {\n",
    "        'q': q,\n",
    "        'type': 'playlist',\n",
    "        'market': 'CH',\n",
    "        'limit': '50',\n",
    "        'offset': '0',\n",
    "    }\n",
    "    result = requests.get('https://api.spotify.com/v1/search', params=params, headers=headers)\n",
    "    result = result.json()\n",
    "    playlists = result['playlists']['items']\n",
    "    playlist_ids = [response['id'] for response in playlists]\n",
    "    for pl_id in playlist_ids:\n",
    "        all_playlist_ids.add(pl_id)\n"
   ]
  },
  {
   "attachments": {},
   "cell_type": "markdown",
   "metadata": {},
   "source": [
    "Once we have the playlist IDs, each playlist will be searched for songs.\n",
    "\n",
    "### Get track IDs:"
   ]
  },
  {
   "cell_type": "code",
   "execution_count": 6,
   "metadata": {},
   "outputs": [],
   "source": [
    "from collections import defaultdict\n",
    "\n",
    "track_counts = defaultdict(int)\n",
    "track_id2name = defaultdict(str)\n",
    "track_name2id = defaultdict(str)\n",
    "for playlist_id in all_playlist_ids:\n",
    "    playlist_params = {\n",
    "        'playlist_id': playlist_id,\n",
    "        'additional_types': 'track',\n",
    "        'market': 'CH',\n",
    "    }\n",
    "\n",
    "    playlist_json = requests.get('https://api.spotify.com/v1/playlists/' + playlist_id, params=playlist_params, headers=headers)\n",
    "    playlist_json = playlist_json.json()\n",
    "    tracks = playlist_json['tracks']['items']\n",
    "    # only save track IDs and names that occur in more than one playlist:\n",
    "    for response in tracks:\n",
    "        if track_counts[response['track']['id']] >= 2:\n",
    "            track_id2name[response['track']['id']] =  response['track']['name']\n",
    "            track_name2id[response['track']['name']] =  response['track']['id']\n",
    "        track_counts[response['track']['id']] += 1\n"
   ]
  },
  {
   "attachments": {},
   "cell_type": "markdown",
   "metadata": {},
   "source": [
    "The track IDs are passed as arguments to the Spotify lyrics module, Syrics. \n",
    "This module requires a value of 'sp_dc' based on your user's spotify browser session, obtained from the browser developer mode on an open Spotify page where the client is signed in.  \n"
   ]
  },
  {
   "cell_type": "code",
   "execution_count": 7,
   "metadata": {},
   "outputs": [],
   "source": [
    "from syrics.api import Spotify\n",
    "sp_dc = 'AQCT9VgGZvQNAFtgivM-SGTQ2G-klYASaGmgioSIfKym0xfIdsfkIb_HFVtlj3WjU3EeZyurxiNhAZJqT7lKkxtzQpxmZEFP5Xae-ovATT5QHZYic5fHYsR4lVXokoBrpdBX2cWcCGgLGQrN-K24sG1Gy3vW-HiiPjL70U1k1yVRcphHT2re2dfBnlMNxGj50iqFV0103faRVhdi3vXwDA0gEg6e'\n",
    "sp = Spotify(sp_dc)"
   ]
  },
  {
   "attachments": {},
   "cell_type": "markdown",
   "metadata": {},
   "source": [
    "Each track ID is saved as a '.txt' file with the prefix 'lyrics' and a unique file ID  concatenated with the track's name. \n",
    "\n",
    "A simple language identification check is done to ensure that:\n",
    "\n",
    "1) Folk songs from other languages are not included\n",
    "\n",
    "2) Standard German folk songs, with no non-standard dialect words, are excluded. The assumption here is that many Swiss German words will be incorrectly identified as belonging to other languages \n",
    "\n",
    "For songs where no lyrics were found, the song names will provide a useful starting point for a subsequent manual search to expand the dataset.\n",
    "\n",
    "### Get desired lyrics and save to files:"
   ]
  },
  {
   "cell_type": "code",
   "execution_count": null,
   "metadata": {},
   "outputs": [],
   "source": [
    "from langdetect import detect, LangDetectException\n",
    "\n",
    "destination_folder = 'data/' # rename the folder as desired\n",
    "def most_common(lst):\n",
    "    return max(set(lst), key=lst.count)\n",
    "langs_detected = set()\n",
    "file_id = 0\n",
    "for id in track_id2name.keys():\n",
    "    trackname = track_id2name[id]\n",
    "    filename = trackname.replace(\" \", \"_\")\n",
    "    response = sp.get_lyrics(id)\n",
    "    if response:\n",
    "        file_id += 1\n",
    "        lines = response['lyrics']['lines']\n",
    "        words_per_line = [dict(line)['words'] for line in lines]\n",
    "        # detect language of the words in each line\n",
    "        langs = []\n",
    "        for l in words_per_line:\n",
    "            try: \n",
    "                langs.append(detect(l))\n",
    "                langs_detected.add(detect(l))\n",
    "            except LangDetectException:\n",
    "                continue\n",
    "        language = most_common(langs)\n",
    "        if language != 'de':            # this removes the Spanish-language folk songs that are otherwise saved\n",
    "            continue\n",
    "        elif len(set(langs)) == 1:      # this removes songs entirely in Standard German.\n",
    "            continue\n",
    "        # save the file with the title on the first line and an empty line before the full lyrics of the song\n",
    "        with open(destination_folder+'lyrics_'+str(file_id)+'_'+filename+'.txt', 'w') as newfile:\n",
    "            newfile.write(trackname+\"\\n\"+\"\\n\")\n",
    "            for l in words_per_line:\n",
    "                newfile.write(l+\"\\n\")\n",
    "    else:\n",
    "        continue\n",
    "    with open(destination_folder+'moretitles.txt', 'a') as titlesfile:\n",
    "        titlesfile.write(trackname+\"\\n\")\n",
    "print(langs_detected)"
   ]
  },
  {
   "attachments": {},
   "cell_type": "markdown",
   "metadata": {},
   "source": [
    "## 2. Im Röseligarte\n",
    "\n",
    "The second resource is a historical volume of Folk songs known as 'Im Röseligarte'. I found a folder with a PDF corresponding to each song in this collection:\n",
    "https://www.sins942.ch/noten_im_roeseligarte.html\n",
    "\n",
    "These PDFs were downloaded into a folder entitled 'Im_Roeseligarte'. I used the PdfReader module (https://pypdf2.readthedocs.io/en/3.0.0/modules/PdfReader.html)\n",
    "to scrape the text from the PDFs. The non-lyric artefacts were fortunately easy to remove.\n"
   ]
  },
  {
   "cell_type": "code",
   "execution_count": null,
   "metadata": {},
   "outputs": [],
   "source": [
    "from PyPDF2 import PdfReader\n",
    "import os\n",
    "import re\n",
    "folder = r'Im_Roeseligarte/'\n",
    "\n",
    "for file_name in sorted(os.listdir(folder)):\n",
    "    reader = PdfReader(folder+file_name)\n",
    "    newfilename = 'lyrics_'+str(file_id+i)+'_'+file_name[file_name.find(\"_\")+1:]\n",
    "    print(newfilename)\n",
    "    lyricsfile = open(newfilename+'.txt', 'w')\n",
    "    for page_number in range(0,len(reader.pages)):\n",
    "        page = reader.pages[page_number]\n",
    "        text = page.extract_text()\n",
    "        # remove page numbering and authorship text\n",
    "        title = text[text.find(\"2016\")+4:]\n",
    "        lyrics = text[text.find(\"1.\"):text.find(\"Paul\")]\n",
    "        lyrics = re.sub(\"[0-9]+.\",\"\", lyrics)\n",
    "        # write to file\n",
    "        lyricsfile.write(title+\"\\n\"+\"\\n\")\n",
    "        lyricsfile.write(lyrics)\n",
    "    file_id += 1\n",
    "    if file_id >154: # subsequent handful of PDFs were in a different format and had to be manually copy/pasted \n",
    "        break"
   ]
  },
  {
   "attachments": {},
   "cell_type": "markdown",
   "metadata": {},
   "source": [
    "## 3. Schweizerische Volkslieder - Tobel, 1882"
   ]
  },
  {
   "cell_type": "code",
   "execution_count": null,
   "metadata": {},
   "outputs": [],
   "source": [
    "4h"
   ]
  },
  {
   "attachments": {},
   "cell_type": "markdown",
   "metadata": {},
   "source": [
    "## 3. Other Internet resources\n",
    "\n"
   ]
  },
  {
   "cell_type": "code",
   "execution_count": null,
   "metadata": {},
   "outputs": [],
   "source": [
    "import requests\n",
    "from bs4 import BeautifulSoup\n",
    "\n",
    "def getdata(url):\n",
    "    r = requests.get(url)\n",
    "    return r.content\n",
    "\n",
    "def get_lyrics_muster(lyric_page):\n",
    "    i = 400\n",
    "    html_data = getdata(lyric_page)\n",
    "    page_soup = BeautifulSoup(html_data, \"html.parser\")\n",
    "    tables = page_soup.find_all('table')\n",
    "    texts = []\n",
    "    for table in tables:\n",
    "        table_text = table.get_text()\n",
    "        texts.append(table_text)\n",
    "        newfilename = 'lyrics_'+str(i)\n",
    "        lyricsfile = open('Edimuster/'+newfilename+'.txt', 'w')\n",
    "        lyricsfile.write(table_text)\n",
    "        i += 1\n",
    "    return texts\n",
    "\n",
    "website = \"http://www.edimuster.ch/baernduetsch/lied.htm\"\n",
    "get_lyrics_muster(website)\n",
    "#   "
   ]
  },
  {
   "cell_type": "code",
   "execution_count": null,
   "metadata": {},
   "outputs": [],
   "source": [
    "\n",
    "def get_links_swissmom(website_link):\n",
    "    html_data = getdata(website_link)\n",
    "    soup = BeautifulSoup(html_data, \"html.parser\")\n",
    "    list_links = []\n",
    "    for link in soup.find_all(\"a\", href=True):\n",
    "        if str(link[\"href\"]).startswith(\"/lieder/\"):\n",
    "            link_with_www = 'https://chindermusigwaelt.swissmom.ch/' + link[\"href\"][1:]\n",
    "            list_links.append(link_with_www)\n",
    "    return list_links\n",
    "\n",
    "website = \"https://chindermusigwaelt.swissmom.ch/liedertexte/volkslieder/\"\n",
    "\n",
    "links = get_links_swissmom(website)\n",
    "\n",
    "def get_lyrics_swissmom(lyric_page):\n",
    "    html_data = getdata(lyric_page)\n",
    "    page_soup = BeautifulSoup(html_data, \"html.parser\")\n",
    "    h2_tag = page_soup.find('h2')\n",
    "    if h2_tag:\n",
    "        title_tag = h2_tag.find_previous_sibling('h1')    \t\n",
    "        p_tags = h2_tag.find_previous_siblings('p')\n",
    "        p_tags = reversed(p_tags) \n",
    "    else:\n",
    "        title_tag = page_soup.find('h1')\n",
    "        p_tags = page_soup.find_all('p')\n",
    "    title = title_tag.text\n",
    "    lyrics = [title, \"\\n\"]        \n",
    "    for p in p_tags:\n",
    "        text = p.get_text(separator = '\\n', strip = True)\n",
    "        lines = text.split('\\n')\n",
    "        lyrics.extend(lines)\n",
    "    return lyrics\n",
    "\n",
    "i = 302\n",
    "for link in links:\n",
    "    lyrics = get_lyrics_swissmom(link)\n",
    "    title = lyrics[0].replace(\" \",\"_\")\n",
    "    newfilename = 'lyrics_'+str(i)+'_'+ title\n",
    "    print(newfilename)\n",
    "    lyricsfile = open('Chindermusig/'+newfilename+'.txt', 'w')\n",
    "    lyricsfile.write(title+\"\\n\"+\"\\n\")\n",
    "    for l in lyrics:\n",
    "        lyricsfile.write(l+\"\\n\")\n",
    "    i += 1\n"
   ]
  }
 ],
 "metadata": {
  "kernelspec": {
   "display_name": "env",
   "language": "python",
   "name": "python3"
  },
  "language_info": {
   "codemirror_mode": {
    "name": "ipython",
    "version": 3
   },
   "file_extension": ".py",
   "mimetype": "text/x-python",
   "name": "python",
   "nbconvert_exporter": "python",
   "pygments_lexer": "ipython3",
   "version": "3.11.0"
  },
  "orig_nbformat": 4
 },
 "nbformat": 4,
 "nbformat_minor": 2
}
